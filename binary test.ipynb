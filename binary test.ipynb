{
 "cells": [
  {
   "cell_type": "code",
   "execution_count": 1,
   "id": "0d363d67",
   "metadata": {},
   "outputs": [],
   "source": [
    "from pymodbus.client.sync import ModbusTcpClient"
   ]
  },
  {
   "cell_type": "code",
   "execution_count": 2,
   "id": "de02913d",
   "metadata": {},
   "outputs": [],
   "source": [
    "client = ModbusTcpClient('192.168.1.36')"
   ]
  },
  {
   "cell_type": "code",
   "execution_count": 4,
   "id": "12f30500",
   "metadata": {},
   "outputs": [],
   "source": [
    "rs = client.read_holding_registers(0,2)"
   ]
  },
  {
   "cell_type": "code",
   "execution_count": 23,
   "id": "8fd08b3b",
   "metadata": {},
   "outputs": [
    {
     "name": "stdout",
     "output_type": "stream",
     "text": [
      "0b1011\n",
      "0b1100\n"
     ]
    }
   ],
   "source": [
    "bin_1 = bin(int(rs.registers[0]))\n",
    "print(bin_1)\n",
    "bin_2 = bin(int(rs.registers[1]))\n",
    "print(bin_2)"
   ]
  },
  {
   "cell_type": "code",
   "execution_count": 20,
   "id": "8a9d8aad",
   "metadata": {},
   "outputs": [
    {
     "name": "stdout",
     "output_type": "stream",
     "text": [
      "66256896\n",
      "11111100110000000000000000\n"
     ]
    }
   ],
   "source": [
    "res = (int(bin_1)<<16)\n",
    "print(res)\n",
    "bin_ = '{0:016b}'.format(res)\n",
    "print(bin_)"
   ]
  },
  {
   "cell_type": "code",
   "execution_count": null,
   "id": "726250c9",
   "metadata": {},
   "outputs": [],
   "source": [
    "res = (first<<4) | (second>>4)"
   ]
  }
 ],
 "metadata": {
  "kernelspec": {
   "display_name": "Python 3 (ipykernel)",
   "language": "python",
   "name": "python3"
  },
  "language_info": {
   "codemirror_mode": {
    "name": "ipython",
    "version": 3
   },
   "file_extension": ".py",
   "mimetype": "text/x-python",
   "name": "python",
   "nbconvert_exporter": "python",
   "pygments_lexer": "ipython3",
   "version": "3.10.5"
  }
 },
 "nbformat": 4,
 "nbformat_minor": 5
}
