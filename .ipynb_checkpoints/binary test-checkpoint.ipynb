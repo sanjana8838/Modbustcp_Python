{
 "cells": [
  {
   "cell_type": "code",
   "execution_count": 1,
   "id": "7644bb23",
   "metadata": {},
   "outputs": [],
   "source": [
    "from pymodbus.client.sync import ModbusTcpClient"
   ]
  },
  {
   "cell_type": "code",
   "execution_count": 2,
   "id": "9fceeb88",
   "metadata": {},
   "outputs": [],
   "source": [
    "client = ModbusTcpClient('192.168.1.36')"
   ]
  },
  {
   "cell_type": "code",
   "execution_count": 4,
   "id": "290a183e",
   "metadata": {},
   "outputs": [],
   "source": [
    "rs = client.read_holding_registers(0,2)"
   ]
  },
  {
   "cell_type": "code",
   "execution_count": 23,
   "id": "ff0fc678",
   "metadata": {},
   "outputs": [
    {
     "name": "stdout",
     "output_type": "stream",
     "text": [
      "0b1011\n",
      "0b1100\n"
     ]
    }
   ],
   "source": [
    "bin_1 = bin(int(rs.registers[0]))\n",
    "print(bin_1)\n",
    "bin_2 = bin(int(rs.registers[1]))\n",
    "print(bin_2)"
   ]
  },
  {
   "cell_type": "code",
   "execution_count": 20,
   "id": "b57b021f",
   "metadata": {},
   "outputs": [
    {
     "name": "stdout",
     "output_type": "stream",
     "text": [
      "66256896\n",
      "11111100110000000000000000\n"
     ]
    }
   ],
   "source": [
    "print()"
   ]
  },
  {
   "cell_type": "code",
   "execution_count": null,
   "id": "48a80c02",
   "metadata": {},
   "outputs": [],
   "source": [
    "res = (first<<4) | (second>>4)"
   ]
  }
 ],
 "metadata": {
  "kernelspec": {
   "display_name": "Python 3 (ipykernel)",
   "language": "python",
   "name": "python3"
  },
  "language_info": {
   "codemirror_mode": {
    "name": "ipython",
    "version": 3
   },
   "file_extension": ".py",
   "mimetype": "text/x-python",
   "name": "python",
   "nbconvert_exporter": "python",
   "pygments_lexer": "ipython3",
   "version": "3.10.5"
  }
 },
 "nbformat": 4,
 "nbformat_minor": 5
}
